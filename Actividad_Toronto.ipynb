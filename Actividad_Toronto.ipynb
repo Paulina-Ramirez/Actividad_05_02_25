{
  "nbformat": 4,
  "nbformat_minor": 0,
  "metadata": {
    "colab": {
      "provenance": [],
      "authorship_tag": "ABX9TyPRfs1c/v+rxcFqCwgf2j1R",
      "include_colab_link": true
    },
    "kernelspec": {
      "name": "python3",
      "display_name": "Python 3"
    },
    "language_info": {
      "name": "python"
    }
  },
  "cells": [
    {
      "cell_type": "markdown",
      "metadata": {
        "id": "view-in-github",
        "colab_type": "text"
      },
      "source": [
        "<a href=\"https://colab.research.google.com/github/Paulina-Ramirez/Actividad_05_02_25/blob/main/Actividad_Toronto.ipynb\" target=\"_parent\"><img src=\"https://colab.research.google.com/assets/colab-badge.svg\" alt=\"Open In Colab\"/></a>"
      ]
    },
    {
      "cell_type": "markdown",
      "source": [
        "Extracción de características de Toronto"
      ],
      "metadata": {
        "id": "i1XSbdcDvPsI"
      }
    },
    {
      "cell_type": "code",
      "source": [
        "%pip install funpymodeling"
      ],
      "metadata": {
        "id": "1FchP_XG0IOq"
      },
      "execution_count": null,
      "outputs": []
    },
    {
      "cell_type": "code",
      "execution_count": 3,
      "metadata": {
        "id": "TYhHkoyGtbD8"
      },
      "outputs": [],
      "source": [
        "import pandas as pd\n",
        "import numpy as np\n",
        "import matplotlib.pyplot as plt\n",
        "from funpymodeling.exploratory import freq_tbl"
      ]
    },
    {
      "cell_type": "code",
      "source": [
        "from google.colab import files\n",
        "files.upload()"
      ],
      "metadata": {
        "id": "WT9hrG_R0XnS"
      },
      "execution_count": null,
      "outputs": []
    },
    {
      "cell_type": "code",
      "source": [
        "#Cargar el archivo .csv\n",
        "data = pd.read_csv('Datos_limpios_Toronto.csv')"
      ],
      "metadata": {
        "id": "Rtuibh6c1JP6"
      },
      "execution_count": 5,
      "outputs": []
    }
  ]
}